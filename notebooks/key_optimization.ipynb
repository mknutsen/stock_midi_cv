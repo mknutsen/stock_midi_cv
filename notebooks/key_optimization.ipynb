{
 "cells": [
  {
   "cell_type": "code",
   "execution_count": 3,
   "metadata": {},
   "outputs": [],
   "source": [
    "import pandas as pd\n",
    "\n",
    "from music21 import scale, pitch, stream, note, environment\n",
    "environment.set('musescoreDirectPNGPath', 'D:\\\\Program Files\\\\MuseScore 3\\\\bin\\\\MuseScore3.exe')\n",
    "\n",
    "from yfinance import download as stock_price_download\n",
    "from math import isclose, floor"
   ]
  },
  {
   "cell_type": "markdown",
   "metadata": {},
   "source": [
    "### Create conversion dicts to go between a note and a midi value"
   ]
  },
  {
   "cell_type": "code",
   "execution_count": 4,
   "metadata": {},
   "outputs": [],
   "source": [
    "notes: list[str] = [\"C\", \"C#\", \"D\", \"D#\", \"E\", \"F\", \"F#\", \"G\", \"G#\", \"A\", \"A#\", \"B\"]\n",
    "octaves = [i for i in range(-1, 10)]\n",
    "\n",
    "note_to_midi = {\n",
    "    note: midi_code for midi_code, note in \\\n",
    "    enumerate([note + str(octave) for octave in octaves for note in notes]) \\\n",
    "    if midi_code < 128\n",
    "    }\n",
    "\n",
    "midi_to_note = {v: k for k,v in note_to_midi.items()}\n"
   ]
  },
  {
   "cell_type": "markdown",
   "metadata": {},
   "source": [
    "### Generate patterns for major and minor scales"
   ]
  },
  {
   "cell_type": "code",
   "execution_count": 14,
   "metadata": {},
   "outputs": [],
   "source": [
    "ScaleList = list[scale.Scale]\n",
    "\n",
    "scale_fns = [\n",
    "    # Major and Minor scales\n",
    "    scale.MajorScale, scale.MinorScale, scale.HarmonicMinorScale, scale.MelodicMinorScale\n",
    "    # scale.WeightedHexatonicBlues, \n",
    "\n",
    "    # Pseudo-raga scales, note they may have differences between ascending and descending pitches\n",
    "    # Pseudo-raga\n",
    "    # scale.RagAsawari, scale.RagMarwa,\n",
    "\n",
    "    # Oddballs\n",
    "    # scale.WholeToneScale\n",
    "]\n",
    "\n",
    "scales: ScaleList = [\n",
    "    f(note) for note in notes for f in scale_fns\n",
    "]\n",
    "\n",
    "# add concrete scales for pentatonic and blues scales\n",
    "blues_minor_indices = [0, 3, 5, 6, 7, 10]\n",
    "minor_pentatonic_indices = [0, 3, 5, 7, 10]\n",
    "\n",
    "def first_to_last(l: list):\n",
    "    l.append(l.pop(0))\n",
    "    return l\n",
    "\n",
    "\n",
    "\n",
    "# sc.abstract.getDegreeMaxUnique()\n",
    "# [str(p) for p in sc2.getPitches('g2', 'g4', direction='descending')]\n",
    "\n"
   ]
  },
  {
   "cell_type": "code",
   "execution_count": 15,
   "metadata": {},
   "outputs": [],
   "source": [
    "major_steps = [\"W\", \"W\", \"H\", \"W\", \"W\", \"W\", \"H\"]\n",
    "minor_steps = [\"W\", \"H\", \"W\", \"W\", \"H\", \"W\", \"W\"]\n",
    "# Note: melodic minor scales lower degrees 6&7 going down\n",
    "# may be interesting to implement algo to raise and lower notes \n",
    "# based on increasing or decreasing runs of notes\n",
    "melodic_minor_steps = [\"W\", \"H\", \"W\", \"W\", \"W\", \"W\", \"H\"]\n",
    "harmonic_minor_steps = [\"W\", \"H\", \"W\", \"W\", \"H\", \"W+H\", \"H\"]\n",
    "pentatonic_major_steps = [\"W\", \"W\", \"W+H\", \"W\", \"W+H\"]\n",
    "pentatonic_minor_steps = [\"W+H\", \"W\", \"W\", \"W+H\", \"W\"]\n",
    "japanese_mode_steps = [\"H\", \"W+W\", \"W\", \"H\", \"W+W\"]\n",
    "blues_major_steps = [\"W\", \"W+H\", \"W\", \"W\", ]\n",
    "blues_minor_steps = []\n",
    "egyptian_suspended_steps = [\"W\", \"W+H\",\"W\"]\n",
    "\n",
    "modes: list[str] = [\"Ionian\", \"Dorian\", \"Phrygian\", \"Lydian\", \"Myxolydian\", \"Aeolian\", \"Locrian\"]"
   ]
  },
  {
   "cell_type": "markdown",
   "metadata": {},
   "source": [
    "### Read Financial Data"
   ]
  },
  {
   "cell_type": "code",
   "execution_count": 16,
   "metadata": {},
   "outputs": [
    {
     "name": "stdout",
     "output_type": "stream",
     "text": [
      "[*********************100%***********************]  1 of 1 completed\n"
     ]
    },
    {
     "data": {
      "text/html": [
       "<div>\n",
       "<style scoped>\n",
       "    .dataframe tbody tr th:only-of-type {\n",
       "        vertical-align: middle;\n",
       "    }\n",
       "\n",
       "    .dataframe tbody tr th {\n",
       "        vertical-align: top;\n",
       "    }\n",
       "\n",
       "    .dataframe thead th {\n",
       "        text-align: right;\n",
       "    }\n",
       "</style>\n",
       "<table border=\"1\" class=\"dataframe\">\n",
       "  <thead>\n",
       "    <tr style=\"text-align: right;\">\n",
       "      <th></th>\n",
       "      <th>Open</th>\n",
       "      <th>High</th>\n",
       "      <th>Low</th>\n",
       "      <th>Close</th>\n",
       "      <th>Adj Close</th>\n",
       "      <th>Volume</th>\n",
       "    </tr>\n",
       "    <tr>\n",
       "      <th>Date</th>\n",
       "      <th></th>\n",
       "      <th></th>\n",
       "      <th></th>\n",
       "      <th></th>\n",
       "      <th></th>\n",
       "      <th></th>\n",
       "    </tr>\n",
       "  </thead>\n",
       "  <tbody>\n",
       "    <tr>\n",
       "      <th>2020-01-02</th>\n",
       "      <td>0.069578</td>\n",
       "      <td>0.062596</td>\n",
       "      <td>0.069055</td>\n",
       "      <td>0.069164</td>\n",
       "      <td>0.069164</td>\n",
       "      <td>0.041218</td>\n",
       "    </tr>\n",
       "    <tr>\n",
       "      <th>2020-01-03</th>\n",
       "      <td>0.073579</td>\n",
       "      <td>0.070769</td>\n",
       "      <td>0.079242</td>\n",
       "      <td>0.074978</td>\n",
       "      <td>0.074978</td>\n",
       "      <td>0.030132</td>\n",
       "    </tr>\n",
       "    <tr>\n",
       "      <th>2020-01-06</th>\n",
       "      <td>0.081175</td>\n",
       "      <td>0.073792</td>\n",
       "      <td>0.082182</td>\n",
       "      <td>0.069231</td>\n",
       "      <td>0.069231</td>\n",
       "      <td>0.019010</td>\n",
       "    </tr>\n",
       "    <tr>\n",
       "      <th>2020-01-07</th>\n",
       "      <td>0.073240</td>\n",
       "      <td>0.068044</td>\n",
       "      <td>0.076097</td>\n",
       "      <td>0.073626</td>\n",
       "      <td>0.073626</td>\n",
       "      <td>0.007751</td>\n",
       "    </tr>\n",
       "    <tr>\n",
       "      <th>2020-01-08</th>\n",
       "      <td>0.077513</td>\n",
       "      <td>0.064124</td>\n",
       "      <td>0.076234</td>\n",
       "      <td>0.068555</td>\n",
       "      <td>0.068555</td>\n",
       "      <td>0.059549</td>\n",
       "    </tr>\n",
       "  </tbody>\n",
       "</table>\n",
       "</div>"
      ],
      "text/plain": [
       "                Open      High       Low     Close  Adj Close    Volume\n",
       "Date                                                                   \n",
       "2020-01-02  0.069578  0.062596  0.069055  0.069164   0.069164  0.041218\n",
       "2020-01-03  0.073579  0.070769  0.079242  0.074978   0.074978  0.030132\n",
       "2020-01-06  0.081175  0.073792  0.082182  0.069231   0.069231  0.019010\n",
       "2020-01-07  0.073240  0.068044  0.076097  0.073626   0.073626  0.007751\n",
       "2020-01-08  0.077513  0.064124  0.076234  0.068555   0.068555  0.059549"
      ]
     },
     "execution_count": 16,
     "metadata": {},
     "output_type": "execute_result"
    }
   ],
   "source": [
    "ticker: str = \"PTON\"\n",
    "start_date: str = \"2020-01-01\"\n",
    "end_date: str = \"2022-01-01\"\n",
    "\n",
    "df: pd.DataFrame = stock_price_download(ticker, start_date, end_date)\n",
    "\n",
    "steps = 32\n",
    "\n",
    "num_entries: int = len(df)\n",
    "step_factor: int = floor(num_entries / steps) \n",
    "\n",
    "# filtered_df = df.iloc[::step_factor]\n",
    "filtered_df = df\n",
    "\n",
    "\n",
    "min_value: float = df.min()\n",
    "max_value: float = df.max()\n",
    "value_range: float = max_value - min_value\n",
    "\n",
    "normalized_df = (filtered_df - min_value) / value_range\n",
    "\n",
    "normalized_df.head()\n"
   ]
  },
  {
   "cell_type": "markdown",
   "metadata": {},
   "source": [
    "### Convert to midi notes and count note occurrences"
   ]
  },
  {
   "cell_type": "code",
   "execution_count": 17,
   "metadata": {},
   "outputs": [
    {
     "data": {
      "text/plain": [
       "<music21.key.Key of B major>"
      ]
     },
     "execution_count": 17,
     "metadata": {},
     "output_type": "execute_result"
    }
   ],
   "source": [
    "# Scale fractions to possible midi values\n",
    "\n",
    "start_note: str = \"A2\"\n",
    "end_note: str = \"A7\"\n",
    "\n",
    "\n",
    "start_value: int = pitch.Pitch(start_note).midi\n",
    "end_value: int = pitch.Pitch(end_note).midi\n",
    "\n",
    "midi_df = start_value + normalized_df * end_value\n",
    "\n",
    "# Collapse to stream\n",
    "\n",
    "stock_stream = stream.Stream()\n",
    "stock_stream.id = f\"Note sequence for {ticker}\"\n",
    "\n",
    "#TODO: look into setting up fancier things like adding a clef and time signature, populating bar lines, etc.\n",
    "\n",
    "midi_df['Open'].agg( lambda x: stock_stream.append(note.Note(pitch.Pitch(midi=x), type='quarter')) )\n",
    "\n",
    "# NOTE: This command requires musescore (or equiv.) to run\n",
    "# stock_stream.show()\n",
    "\n",
    "# Runs Krumhansl Schmuckler Algorithm to determine key\n",
    "# There are more options to explore here with weighting implementations, not sure how they work \n",
    "stock_stream.analyze('key')"
   ]
  },
  {
   "cell_type": "code",
   "execution_count": 18,
   "metadata": {},
   "outputs": [
    {
     "data": {
      "text/plain": [
       "<music21.graph.plot.HistogramPitchClass for <music21.stream.Stream Note sequence for PTON>>"
      ]
     },
     "execution_count": 18,
     "metadata": {},
     "output_type": "execute_result"
    },
    {
     "data": {
      "image/png": "[encoded data removed]",
      "text/plain": [
       "<Figure size 432x432 with 1 Axes>"
      ]
     },
     "metadata": {
      "image/png": {
       "height": 382,
       "width": 367
      }
     },
     "output_type": "display_data"
    }
   ],
   "source": [
    "# some graphs from the stream\n",
    "\n",
    "stock_stream.plot('histogram', 'pitchClass')"
   ]
  },
  {
   "cell_type": "code",
   "execution_count": 19,
   "metadata": {},
   "outputs": [
    {
     "data": {
      "text/plain": [
       "<music21.graph.plot.HistogramPitchSpace for <music21.stream.Stream Note sequence for PTON>>"
      ]
     },
     "execution_count": 19,
     "metadata": {},
     "output_type": "execute_result"
    },
    {
     "data": {
      "image/png": "[encoded data removed]",
      "text/plain": [
       "<Figure size 720x432 with 1 Axes>"
      ]
     },
     "metadata": {
      "image/png": {
       "height": 382,
       "width": 583
      }
     },
     "output_type": "display_data"
    }
   ],
   "source": [
    "stock_stream.plot('histogram', 'pitchSpace')"
   ]
  },
  {
   "cell_type": "code",
   "execution_count": 20,
   "metadata": {},
   "outputs": [
    {
     "name": "stdout",
     "output_type": "stream",
     "text": [
      "Stream Length: 505\n",
      "Total Counts: 505\n",
      "{'A': 35, 'G#': 39, 'D': 38, 'E-': 44, 'F#': 53, 'C': 33, 'G': 42, 'E': 60, 'F': 41, 'B-': 39, 'B': 43, 'C#': 38}\n"
     ]
    }
   ],
   "source": [
    "# get pitch class and space values in dictionary\n",
    "\n",
    "# TODO: there's probably an elegant way to do this I don't yet see\n",
    "\n",
    "note_set = {p.name for p in stock_stream.pitches}\n",
    "\n",
    "note_counts = {n: len([ p for p in stock_stream.pitches if p.pitchClass == pitch.Pitch(n).pitchClass ]) for n in note_set}\n",
    "pitch_class_counts = {pitch.Pitch(k).pitchClass: v for k, v in note_counts.items()}\n",
    "\n",
    "print(f\"Stream Length: {len(stock_stream)}\")\n",
    "print(f\"Total Counts: {sum(note_counts.values())}\")\n",
    "print(note_counts)\n"
   ]
  },
  {
   "cell_type": "code",
   "execution_count": 21,
   "metadata": {},
   "outputs": [
    {
     "data": {
      "text/plain": [
       "[<music21.scale.MinorScale G# minor>, <music21.scale.MajorScale B major>]"
      ]
     },
     "execution_count": 21,
     "metadata": {},
     "output_type": "execute_result"
    }
   ],
   "source": [
    "# NOTE: Check enharmonic equality by adding .ps\n",
    "\n",
    "\n",
    "def maximize_in_scale(notes: stream.Stream, scales: ScaleList):\n",
    "    closest_scale: list[str] = []\n",
    "    max_metric = 0\n",
    "\n",
    "    for sc in scales:\n",
    "\n",
    "        # TODO: I believe ps only accounts for either ascending or descending values in a scale, should work on adding values from descending scale values\n",
    "        \n",
    "        ps = {p.pitchClass for p in sc.pitches}\n",
    "\n",
    "        # TODO: Should rethink metric to penalize scales with more notes (ex: blues hexatonic and pseudo-ragas)\n",
    "\n",
    "        metric = sum([pitch_class_counts[p] for p in ps]) / len(ps)\n",
    "\n",
    "        if metric > max_metric:\n",
    "            closest_scale = [sc]\n",
    "            max_metric = metric\n",
    "        elif isclose(metric, max_metric):\n",
    "            closest_scale.append(sc)\n",
    "\n",
    "    return closest_scale \n",
    "\n",
    "\n",
    "maximize_in_scale(stock_stream, scales)"
   ]
  },
  {
   "cell_type": "code",
   "execution_count": 24,
   "metadata": {},
   "outputs": [
    {
     "data": {
      "text/html": [
       "<div>\n",
       "<style scoped>\n",
       "    .dataframe tbody tr th:only-of-type {\n",
       "        vertical-align: middle;\n",
       "    }\n",
       "\n",
       "    .dataframe tbody tr th {\n",
       "        vertical-align: top;\n",
       "    }\n",
       "\n",
       "    .dataframe thead th {\n",
       "        text-align: right;\n",
       "    }\n",
       "</style>\n",
       "<table border=\"1\" class=\"dataframe\">\n",
       "  <thead>\n",
       "    <tr style=\"text-align: right;\">\n",
       "      <th></th>\n",
       "      <th>Symbol</th>\n",
       "    </tr>\n",
       "  </thead>\n",
       "  <tbody>\n",
       "    <tr>\n",
       "      <th>0</th>\n",
       "      <td>MMM</td>\n",
       "    </tr>\n",
       "    <tr>\n",
       "      <th>1</th>\n",
       "      <td>AOS</td>\n",
       "    </tr>\n",
       "    <tr>\n",
       "      <th>2</th>\n",
       "      <td>ABT</td>\n",
       "    </tr>\n",
       "    <tr>\n",
       "      <th>3</th>\n",
       "      <td>ABBV</td>\n",
       "    </tr>\n",
       "    <tr>\n",
       "      <th>4</th>\n",
       "      <td>ABMD</td>\n",
       "    </tr>\n",
       "  </tbody>\n",
       "</table>\n",
       "</div>"
      ],
      "text/plain": [
       "  Symbol\n",
       "0    MMM\n",
       "1    AOS\n",
       "2    ABT\n",
       "3   ABBV\n",
       "4   ABMD"
      ]
     },
     "execution_count": 24,
     "metadata": {},
     "output_type": "execute_result"
    }
   ],
   "source": [
    "# Analyze how well this algorithm performs vs the music21's key analyzer by looping through Nasdaq 500\n",
    "\n",
    "sp_df = pd.read_csv('sandp500.csv')\n",
    "\n",
    "sp_df.drop(['Security', 'SEC filings', 'GICS Sector', 'GICS Sub-Industry', 'Headquarters Location', 'Date first added', 'CIK', 'Founded'], axis=1, inplace=True)\n",
    "\n",
    "\n",
    "\n",
    "for ticker in sp_df['Symbol']:\n",
    "    \n",
    "    # read yfinance data for ticker\n",
    "\n",
    "    # convert to stream\n",
    "\n",
    "    # compare maximize_in_scale to .analyze('key') by checking if the latter is in the former\n",
    "\n",
    "\n",
    "    continue\n",
    "\n",
    "sp_df.head()\n"
   ]
  },
  {
   "cell_type": "code",
   "execution_count": 58,
   "metadata": {},
   "outputs": [
    {
     "data": {
      "text/plain": [
       "61.0"
      ]
     },
     "execution_count": 58,
     "metadata": {},
     "output_type": "execute_result"
    }
   ],
   "source": [
    "# TODO: look at triads of notes, pick out the consonant chords"
   ]
  },
  {
   "cell_type": "code",
   "execution_count": null,
   "metadata": {},
   "outputs": [],
   "source": []
  }
 ],
 "metadata": {
  "interpreter": {
   "hash": "2faf662737b539ab8574f5106cc3734944e6e415ac4d7661c3bdb74a2da03b2d"
  },
  "kernelspec": {
   "display_name": "Python 3.10.2 64-bit",
   "language": "python",
   "name": "python3"
  },
  "language_info": {
   "codemirror_mode": {
    "name": "ipython",
    "version": 3
   },
   "file_extension": ".py",
   "mimetype": "text/x-python",
   "name": "python",
   "nbconvert_exporter": "python",
   "pygments_lexer": "ipython3",
   "version": "3.10.2"
  },
  "orig_nbformat": 4
 },
 "nbformat": 4,
 "nbformat_minor": 2
}
